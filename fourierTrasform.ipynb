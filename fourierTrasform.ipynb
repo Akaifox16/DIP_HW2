{
 "cells": [
  {
   "cell_type": "code",
   "execution_count": 1,
   "metadata": {},
   "outputs": [],
   "source": [
    "from polarform import extractAmplitudeAndPhase\n",
    "from dft import fft, phaseIFFT, ampIFFT, oneDomainIFFT\n",
    "import imgmgmt as img\n",
    "from pointop import contrastStretching, normalizeLog\n",
    "from pgmf import readPGM, writePGM"
   ]
  },
  {
   "cell_type": "code",
   "execution_count": 2,
   "metadata": {},
   "outputs": [],
   "source": [
    "file = open('./1/Cross.pgm', 'rb')\n",
    "depth, cross = readPGM(file)"
   ]
  },
  {
   "cell_type": "code",
   "execution_count": 3,
   "metadata": {},
   "outputs": [],
   "source": [
    "cross = img.inverse(cross)\n",
    "img.padding(cross, 56)\n",
    "cross = img.inverse(cross)\n",
    "w = len(cross[0])\n",
    "h = len(cross)"
   ]
  },
  {
   "cell_type": "code",
   "execution_count": 4,
   "metadata": {},
   "outputs": [],
   "source": [
    "# 1.1\n",
    "crossFT = fft(cross)\n",
    "cross_amplitude, cross_phase = extractAmplitudeAndPhase(crossFT)\n",
    "\n",
    "w, h, contrast = contrastStretching(cross_phase)\n",
    "file = open('./1/CrossPhase.pgm', 'wb')\n",
    "writePGM(file, w, h, depth, img.flatten(contrast))\\\n",
    "\n",
    "w, h, norm = normalizeLog(cross_amplitude)\n",
    "file = open('./1/CrossAmplitude.pgm', 'wb')\n",
    "writePGM(file, w, h, depth, img.flatten(norm))"
   ]
  },
  {
   "cell_type": "code",
   "execution_count": 5,
   "metadata": {},
   "outputs": [],
   "source": [
    "# 1.2\n",
    "shiftIFT = oneDomainIFFT(img.shift(crossFT, 20, 30))\n",
    "w, h, contrast = contrastStretching(shiftIFT)\n",
    "file = open('./1/Cross_Shift.pgm', 'wb')\n",
    "writePGM(file, w, h, depth, img.flatten(contrast))"
   ]
  },
  {
   "cell_type": "code",
   "execution_count": 6,
   "metadata": {},
   "outputs": [],
   "source": [
    "# 1.3\n",
    "rotateIFT = oneDomainIFFT(img.rotate(img.toPolarform(crossFT), 30))\n",
    "w, h, contrast = contrastStretching(rotateIFT)\n",
    "file = open(\"./1/Cross_rotate.pgm\", \"wb\")\n",
    "writePGM(file, w, h, depth, img.flatten(contrast))"
   ]
  },
  {
   "cell_type": "code",
   "execution_count": 9,
   "metadata": {},
   "outputs": [],
   "source": [
    "# 1.4\n",
    "downsampling = img.downScale(cross, 100, 100)\n",
    "downFT = img.inverse(downsampling)\n",
    "img.padding(downFT,28)\n",
    "downFT = img.inverse(downFT)\n",
    "\n",
    "downFT = fft(downFT)\n",
    "down_amp, down_phase = extractAmplitudeAndPhase(downFT)\n",
    "\n",
    "w, h, norm = normalizeLog(down_amp)\n",
    "file = open('./1/Cross_Down_Sampling_Amp.pgm', 'wb')\n",
    "writePGM(file, w, h, depth, img.flatten(norm))\n",
    "\n",
    "w, h, contrast = contrastStretching(down_phase)\n",
    "file = open('./1/Cross_Down_Sampling_Phase.pgm', 'wb')\n",
    "writePGM(file, w, h, depth, img.flatten(contrast))"
   ]
  },
  {
   "cell_type": "code",
   "execution_count": 8,
   "metadata": {},
   "outputs": [],
   "source": [
    "cross_ifft_phase = phaseIFFT(cross_phase)\n",
    "w, h, contrast = contrastStretching(cross_ifft_phase)\n",
    "file = open('./1/Cross_ifft_phase.pgm', 'wb')\n",
    "writePGM(file, w, h, depth, img.flatten(contrast))"
   ]
  },
  {
   "cell_type": "code",
   "execution_count": 9,
   "metadata": {},
   "outputs": [],
   "source": [
    "cross_ifft_amp = ampIFFT(cross_amplitude)\n",
    "w, h, norm = contrastStretching(cross_ifft_amp)\n",
    "file = open('./1/Cross_ifft_amplitude.pgm', 'wb')\n",
    "writePGM(file, w, h, depth, img.flatten(norm))"
   ]
  },
  {
   "cell_type": "code",
   "execution_count": 10,
   "metadata": {},
   "outputs": [],
   "source": []
  },
  {
   "cell_type": "code",
   "execution_count": 11,
   "metadata": {},
   "outputs": [],
   "source": []
  },
  {
   "cell_type": "code",
   "execution_count": 12,
   "metadata": {},
   "outputs": [],
   "source": [
    "# 1.6\n",
    "file = open('./1/Lenna.pgm', 'rb')\n",
    "depth, lenna = readPGM(file)\n",
    "\n",
    "lennaFT = fft(lenna)\n",
    "lenna_amplitude, lenna_phase = extractAmplitudeAndPhase(lennaFT)\n",
    "\n",
    "lenna_ifft_amp = ampIFFT(lenna_amplitude)\n",
    "lenna_ifft_phase = phaseIFFT(lenna_phase)\n",
    "\n",
    "w, h, norm = normalizeLog(lenna_amplitude)\n",
    "file = open('./1/LennaAmplitude.pgm', 'wb')\n",
    "writePGM(file, w, h, depth, img.flatten(norm))\n",
    "\n",
    "w, h, contrast = contrastStretching(lenna_ifft_phase)\n",
    "file = open('./1/Lenna_ifft_phase.pgm', 'wb')\n",
    "writePGM(file, w, h, depth, img.flatten(contrast))"
   ]
  },
  {
   "cell_type": "code",
   "execution_count": 13,
   "metadata": {},
   "outputs": [],
   "source": []
  },
  {
   "cell_type": "code",
   "execution_count": 14,
   "metadata": {},
   "outputs": [],
   "source": []
  },
  {
   "cell_type": "code",
   "execution_count": null,
   "metadata": {},
   "outputs": [],
   "source": []
  }
 ],
 "metadata": {
  "interpreter": {
   "hash": "916dbcbb3f70747c44a77c7bcd40155683ae19c65e1c03b4aa3499c5328201f1"
  },
  "kernelspec": {
   "display_name": "Python 3.9.7 64-bit",
   "language": "python",
   "name": "python3"
  },
  "language_info": {
   "codemirror_mode": {
    "name": "ipython",
    "version": 3
   },
   "file_extension": ".py",
   "mimetype": "text/x-python",
   "name": "python",
   "nbconvert_exporter": "python",
   "pygments_lexer": "ipython3",
   "version": "3.9.7"
  },
  "orig_nbformat": 4
 },
 "nbformat": 4,
 "nbformat_minor": 2
}
