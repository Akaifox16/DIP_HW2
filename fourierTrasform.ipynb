{
 "cells": [
  {
   "cell_type": "code",
   "execution_count": 15,
   "metadata": {},
   "outputs": [],
   "source": [
    "from polarform import extractAmplitudeAndPhase\n",
    "from dft import fft, phaseIFFT, ampIFFT, oneDomainIFFT\n",
    "from imgmgmt import flatten, padding\n",
    "from pointop import contrastStretching, normalizeLog\n",
    "from pgmf import readPGM, writePGM"
   ]
  },
  {
   "cell_type": "code",
   "execution_count": 16,
   "metadata": {},
   "outputs": [],
   "source": [
    "file = open('./1/Cross.pgm', 'rb')\n",
    "depth, cross = readPGM(file)"
   ]
  },
  {
   "cell_type": "code",
   "execution_count": 17,
   "metadata": {},
   "outputs": [],
   "source": [
    "padding(cross, 56)\n",
    "w = len(cross[0])\n",
    "h = len(cross)"
   ]
  },
  {
   "cell_type": "code",
   "execution_count": 18,
   "metadata": {},
   "outputs": [],
   "source": [
    "crossFT = fft(cross)\n",
    "cross_amplitude, cross_phase = extractAmplitudeAndPhase(crossFT)"
   ]
  },
  {
   "cell_type": "code",
   "execution_count": 19,
   "metadata": {},
   "outputs": [],
   "source": [
    "crossIFT = oneDomainIFFT(crossFT)\n",
    "w, h, contrast = contrastStretching(crossIFT)\n",
    "file = open('./1/CrossInverse.pgm', 'wb')\n",
    "writePGM(file, w, h, depth, flatten(contrast))"
   ]
  },
  {
   "cell_type": "code",
   "execution_count": 20,
   "metadata": {},
   "outputs": [],
   "source": [
    "w, h, contrast = contrastStretching(cross_phase)\n",
    "file = open('./1/CrossPhase.pgm', 'wb')\n",
    "writePGM(file, w, h, depth, flatten(contrast))"
   ]
  },
  {
   "cell_type": "code",
   "execution_count": 21,
   "metadata": {},
   "outputs": [],
   "source": [
    "w, h, norm = normalizeLog(cross_amplitude)\n",
    "file = open('./1/CrossAmplitude.pgm', 'wb')\n",
    "writePGM(file, w, h, depth, flatten(norm))"
   ]
  },
  {
   "cell_type": "code",
   "execution_count": 22,
   "metadata": {},
   "outputs": [],
   "source": [
    "cross_ifft_phase = phaseIFFT(cross_phase)\n",
    "w, h, contrast = contrastStretching(cross_ifft_phase)\n",
    "file = open('./1/Cross_ifft_phase.pgm', 'wb')\n",
    "writePGM(file, w, h, depth, flatten(contrast))"
   ]
  },
  {
   "cell_type": "code",
   "execution_count": 23,
   "metadata": {},
   "outputs": [],
   "source": [
    "cross_ifft_amp = ampIFFT(cross_amplitude)\n",
    "w, h, norm = contrastStretching(cross_ifft_amp)\n",
    "file = open('./1/Cross_ifft_amplitude.pgm', 'wb')\n",
    "writePGM(file, w, h, depth, flatten(norm))"
   ]
  },
  {
   "cell_type": "code",
   "execution_count": 24,
   "metadata": {},
   "outputs": [],
   "source": [
    "file = open('./1/Lenna.pgm', 'rb')\n",
    "depth, lenna = readPGM(file)"
   ]
  },
  {
   "cell_type": "code",
   "execution_count": 25,
   "metadata": {},
   "outputs": [],
   "source": [
    "lennaFT = fft(lenna)\n",
    "lenna_amplitude, lenna_phase = extractAmplitudeAndPhase(lennaFT)"
   ]
  },
  {
   "cell_type": "code",
   "execution_count": 26,
   "metadata": {},
   "outputs": [],
   "source": [
    "lenna_ifft_amp = ampIFFT(lenna_amplitude)\n",
    "lenna_ifft_phase = phaseIFFT(lenna_phase)"
   ]
  },
  {
   "cell_type": "code",
   "execution_count": 27,
   "metadata": {},
   "outputs": [],
   "source": [
    "w, h, norm = normalizeLog(lenna_amplitude)\n",
    "file = open('./1/LennaAmplitude.pgm', 'wb')\n",
    "writePGM(file, w, h, depth, flatten(norm))"
   ]
  },
  {
   "cell_type": "code",
   "execution_count": 28,
   "metadata": {},
   "outputs": [],
   "source": [
    "w, h, contrast = contrastStretching(lenna_ifft_phase)\n",
    "file = open('./1/Lenna_ifft_phase.pgm', 'wb')\n",
    "writePGM(file, w, h, depth, flatten(contrast))"
   ]
  },
  {
   "cell_type": "code",
   "execution_count": null,
   "metadata": {},
   "outputs": [],
   "source": []
  }
 ],
 "metadata": {
  "interpreter": {
   "hash": "916dbcbb3f70747c44a77c7bcd40155683ae19c65e1c03b4aa3499c5328201f1"
  },
  "kernelspec": {
   "display_name": "Python 3.9.7 64-bit",
   "language": "python",
   "name": "python3"
  },
  "language_info": {
   "codemirror_mode": {
    "name": "ipython",
    "version": 3
   },
   "file_extension": ".py",
   "mimetype": "text/x-python",
   "name": "python",
   "nbconvert_exporter": "python",
   "pygments_lexer": "ipython3",
   "version": "3.9.7"
  },
  "orig_nbformat": 4
 },
 "nbformat": 4,
 "nbformat_minor": 2
}
