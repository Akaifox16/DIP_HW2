{
 "cells": [
  {
   "cell_type": "code",
   "execution_count": 8,
   "metadata": {},
   "outputs": [],
   "source": [
    "import imgmgmt as img\n",
    "from dft import fft, phaseIFFT, ampIFFT, oneDomainIFFT\n",
    "from pgmf import openImg, saveContrastImg, saveNormImg"
   ]
  },
  {
   "cell_type": "code",
   "execution_count": 9,
   "metadata": {},
   "outputs": [],
   "source": [
    "depth, cross = openImg('./1/Cross.pgm')\n",
    "cross = img.inverse(cross)\n",
    "img.padding(cross, 56)\n",
    "cross = img.inverse(cross)"
   ]
  },
  {
   "cell_type": "code",
   "execution_count": 10,
   "metadata": {},
   "outputs": [],
   "source": [
    "# 1.1\n",
    "crossFT = fft(cross)\n",
    "cross_amplitude, cross_phase = img.extractAmplitudeAndPhase(crossFT)\n",
    "saveContrastImg('./1/CrossPhase.pgm', cross_phase, 255)\n",
    "saveNormImg('./1/CrossAmplitude.pgm', cross_amplitude, 255)"
   ]
  },
  {
   "cell_type": "code",
   "execution_count": 11,
   "metadata": {},
   "outputs": [],
   "source": [
    "# 1.2\n",
    "shiftIFT = oneDomainIFFT(img.shift(crossFT, 20, 30))\n",
    "saveContrastImg('./1/Cross_Shift.pgm', shiftIFT, 255)"
   ]
  },
  {
   "cell_type": "code",
   "execution_count": 12,
   "metadata": {},
   "outputs": [],
   "source": [
    "# 1.3\n",
    "rotated_img = img.rotate(cross, 30, 255)\n",
    "saveContrastImg(\"./1/Cross_rotate.pgm\", rotated_img, 255)\n",
    "rotateFT = fft(rotated_img)\n",
    "rotate_amplitude, rotate_phase = img.extractAmplitudeAndPhase(rotateFT)\n",
    "saveContrastImg('./1/Cross_rotate_phase.pgm', rotate_phase, 255)\n",
    "saveNormImg('./1/Cross_rotate_amplitude.pgm', rotate_amplitude, 255)"
   ]
  },
  {
   "cell_type": "code",
   "execution_count": 13,
   "metadata": {},
   "outputs": [],
   "source": [
    "# 1.4\n",
    "downsampling = img.downScale(cross, 100, 100)\n",
    "downFT = img.inverse(downsampling)\n",
    "img.padding(downFT,28)\n",
    "downFT = img.inverse(downFT)\n",
    "\n",
    "downFT = fft(downFT)\n",
    "down_amp, down_phase = img.extractAmplitudeAndPhase(downFT)\n",
    "\n",
    "saveNormImg('./1/Cross_Down_Sampling_Amp.pgm', down_amp, 255)\n",
    "saveContrastImg('./1/Cross_Down_Sampling_Phase.pgm', down_phase, 255)"
   ]
  },
  {
   "cell_type": "code",
   "execution_count": 14,
   "metadata": {},
   "outputs": [],
   "source": [
    "# 1.5\n",
    "cross_ifft_phase = phaseIFFT(cross_phase)\n",
    "cross_ifft_amp = ampIFFT(cross_amplitude)\n",
    "\n",
    "saveContrastImg('./1/Cross_ifft_phase.pgm', cross_ifft_phase, 255)\n",
    "saveContrastImg('./1/Cross_ifft_amplitude.pgm', cross_ifft_amp, 255)"
   ]
  },
  {
   "cell_type": "code",
   "execution_count": 15,
   "metadata": {},
   "outputs": [],
   "source": [
    "# 1.6\n",
    "depth, lenna = openImg('./1/Lenna.pgm')\n",
    "\n",
    "lennaFT = fft(lenna)\n",
    "lenna_amplitude, lenna_phase = img.extractAmplitudeAndPhase(lennaFT)\n",
    "\n",
    "lenna_ifft_amp = ampIFFT(lenna_amplitude)\n",
    "lenna_ifft_phase = phaseIFFT(lenna_phase)\n",
    "\n",
    "saveNormImg('./1/LennaAmplitude.pgm', lenna_amplitude, 255)\n",
    "saveContrastImg('./1/Lenna_ifft_phase.pgm', lenna_ifft_phase, 255)"
   ]
  },
  {
   "cell_type": "code",
   "execution_count": 10,
   "metadata": {},
   "outputs": [],
   "source": [
    "# 1.7"
   ]
  }
 ],
 "metadata": {
  "interpreter": {
   "hash": "916dbcbb3f70747c44a77c7bcd40155683ae19c65e1c03b4aa3499c5328201f1"
  },
  "kernelspec": {
   "display_name": "Python 3.9.7 64-bit",
   "language": "python",
   "name": "python3"
  },
  "language_info": {
   "codemirror_mode": {
    "name": "ipython",
    "version": 3
   },
   "file_extension": ".py",
   "mimetype": "text/x-python",
   "name": "python",
   "nbconvert_exporter": "python",
   "pygments_lexer": "ipython3",
   "version": "3.10.2"
  },
  "orig_nbformat": 4
 },
 "nbformat": 4,
 "nbformat_minor": 2
}
