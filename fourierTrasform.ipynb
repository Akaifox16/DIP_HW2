{
 "cells": [
  {
   "cell_type": "code",
   "execution_count": 1,
   "metadata": {},
   "outputs": [],
   "source": [
    "import imgmgmt as img\n",
    "from dft import fft, phaseIFFT, ampIFFT, oneDomainIFFT, np\n",
    "from pgmf import openImg, saveContrastImg, saveNormImg\n",
    "from convolution import convolution, filterFreqDomain, idealLPfilter, gaussianLPfilter, medianfilter, rms"
   ]
  },
  {
   "cell_type": "code",
   "execution_count": 2,
   "metadata": {},
   "outputs": [],
   "source": [
    "depth, cross = openImg('./1/Cross.pgm')\n",
    "cross = img.inverse(cross)\n",
    "img.padding(cross, 56)\n",
    "cross = img.inverse(cross)"
   ]
  },
  {
   "cell_type": "code",
   "execution_count": 3,
   "metadata": {},
   "outputs": [],
   "source": [
    "# 1.1\n",
    "crossFT = fft(cross)\n",
    "cross_amplitude, cross_phase = img.extractAmplitudeAndPhase(crossFT)\n",
    "saveContrastImg('./1/CrossPhase.pgm', cross_phase, 255)\n",
    "saveNormImg('./1/CrossAmplitude.pgm', cross_amplitude, 255)"
   ]
  },
  {
   "cell_type": "code",
   "execution_count": 4,
   "metadata": {},
   "outputs": [],
   "source": [
    "# 1.2\n",
    "shiftIFT = oneDomainIFFT(img.shift(crossFT, 20, 30))\n",
    "saveContrastImg('./1/Cross_Shift.pgm', shiftIFT, 255)"
   ]
  },
  {
   "cell_type": "code",
   "execution_count": 5,
   "metadata": {},
   "outputs": [],
   "source": [
    "# 1.3\n",
    "rotated_img = img.rotate(cross, 30, 255)\n",
    "saveContrastImg(\"./1/Cross_rotate.pgm\", rotated_img, 255)\n",
    "rotateFT = fft(rotated_img)\n",
    "rotate_amplitude, rotate_phase = img.extractAmplitudeAndPhase(rotateFT)\n",
    "saveContrastImg('./1/Cross_rotate_phase.pgm', rotate_phase, 255)\n",
    "saveNormImg('./1/Cross_rotate_amplitude.pgm', rotate_amplitude, 255)"
   ]
  },
  {
   "cell_type": "code",
   "execution_count": 6,
   "metadata": {},
   "outputs": [],
   "source": [
    "# 1.4\n",
    "downsampling = img.downScale(cross, 100, 100)\n",
    "downFT = img.inverse(downsampling)\n",
    "img.padding(downFT,28)\n",
    "downFT = img.inverse(downFT)\n",
    "\n",
    "downFT = fft(downFT)\n",
    "down_amp, down_phase = img.extractAmplitudeAndPhase(downFT)\n",
    "\n",
    "saveNormImg('./1/Cross_Down_Sampling_Amp.pgm', down_amp, 255)\n",
    "saveContrastImg('./1/Cross_Down_Sampling_Phase.pgm', down_phase, 255)"
   ]
  },
  {
   "cell_type": "code",
   "execution_count": 7,
   "metadata": {},
   "outputs": [],
   "source": [
    "# 1.5\n",
    "cross_ifft_phase = phaseIFFT(cross_phase)\n",
    "cross_ifft_amp = ampIFFT(cross_amplitude)\n",
    "\n",
    "saveContrastImg('./1/Cross_ifft_phase.pgm', cross_ifft_phase, 255)\n",
    "saveContrastImg('./1/Cross_ifft_amplitude.pgm', cross_ifft_amp, 255)"
   ]
  },
  {
   "cell_type": "code",
   "execution_count": 8,
   "metadata": {},
   "outputs": [],
   "source": [
    "# 1.6\n",
    "depth, lenna = openImg('./1/Lenna.pgm')\n",
    "\n",
    "lennaFT = fft(lenna)\n",
    "lenna_amplitude, lenna_phase = img.extractAmplitudeAndPhase(lennaFT)\n",
    "\n",
    "lenna_ifft_amp = ampIFFT(lenna_amplitude)\n",
    "lenna_ifft_phase = phaseIFFT(lenna_phase)\n",
    "\n",
    "saveNormImg('./1/LennaAmplitude.pgm', lenna_amplitude, 255)\n",
    "saveContrastImg('./1/Lenna_ifft_phase.pgm', lenna_ifft_phase, 255)"
   ]
  },
  {
   "cell_type": "code",
   "execution_count": 9,
   "metadata": {},
   "outputs": [],
   "source": [
    "# 1.7\n",
    "kernel= np.array([[1, 1, 1]]*3) * (1/9)\n",
    "depth, chess = openImg('./1/Chess.pgm')\n",
    "\n",
    "chessFT = fft(chess)\n",
    "\n",
    "kernel_pad = [row.copy() for row in kernel]\n",
    "ker_pad = np.delete(np.delete(np.pad(kernel_pad, 127), 0, 1), 0, 0)\n",
    "chess_filter = filterFreqDomain(chessFT, fft(ker_pad))\n",
    "# img.padding(chess, 2)\n",
    "chess_convolute = convolution(np.pad(chess, 1), np.array(kernel))\n",
    "\n",
    "filterIFT = oneDomainIFFT(chess_filter)\n",
    "\n",
    "saveContrastImg('./1/Chess_kernel_blur.pgm', chess_convolute, depth)\n",
    "saveContrastImg('./1/Chess_filter_freq.pgm', filterIFT, depth)"
   ]
  },
  {
   "cell_type": "code",
   "execution_count": 10,
   "metadata": {},
   "outputs": [],
   "source": [
    "# 2.1\n",
    "depth, cross = openImg('./1/Cross.pgm')\n",
    "\n",
    "crossFT = fft(cross)\n",
    "cross_ilp30 = idealLPfilter(crossFT, 30)\n",
    "cross_ilp30_ift = oneDomainIFFT(cross_ilp30)\n",
    "cross_ilp50 = idealLPfilter(crossFT, 50)\n",
    "cross_ilp50_ift = oneDomainIFFT(cross_ilp50)\n",
    "cross_ilp100 = idealLPfilter(crossFT, 100)\n",
    "cross_ilp100_ift = oneDomainIFFT(cross_ilp100)\n",
    "\n",
    "saveContrastImg('./2/ideal_lp_30.pgm', cross_ilp30_ift, depth)\n",
    "saveContrastImg('./2/ideal_lp_50.pgm', cross_ilp50_ift, depth)\n",
    "saveContrastImg('./2/ideal_lp_100.pgm', cross_ilp100_ift, depth)\n",
    "\n",
    "cross_glp30 = gaussianLPfilter(crossFT, 30)\n",
    "cross_glp30_ift = oneDomainIFFT(cross_glp30)\n",
    "cross_glp50 = gaussianLPfilter(crossFT, 50)\n",
    "cross_glp50_ift = oneDomainIFFT(cross_glp50)\n",
    "cross_glp100 = gaussianLPfilter(crossFT, 100)\n",
    "cross_glp100_ift = oneDomainIFFT(cross_glp100)\n",
    "\n",
    "saveContrastImg('./2/gaussian_lp_30.pgm', cross_glp30_ift, depth)\n",
    "saveContrastImg('./2/gaussian_lp_50.pgm', cross_glp50_ift, depth)\n",
    "saveContrastImg('./2/gaussian_lp_100.pgm', cross_glp100_ift, depth)"
   ]
  },
  {
   "cell_type": "code",
   "execution_count": 18,
   "metadata": {},
   "outputs": [
    {
     "name": "stdout",
     "output_type": "stream",
     "text": [
      "rms(chess, chess_noise): 24.58521\n",
      "rms(chess, glp50):       14.08603\n",
      "rms(chess, ilp50):       16.85038\n",
      "rms(chess, med):         17.24524\n",
      "\n",
      "rms(lenna, lenna_noise): 25.28078\n",
      "rms(lenna, glp50):       11.21319\n",
      "rms(lenna, ilp50):       12.68227\n",
      "rms(lenna, med):         12.62758\n"
     ]
    }
   ],
   "source": [
    "# 2.2\n",
    "depth, chess_noise = openImg('./2/Chess_noise.pgm')\n",
    "cnFT = fft(chess_noise)\n",
    "\n",
    "chess_noise_glp = oneDomainIFFT(gaussianLPfilter(cnFT, 50))\n",
    "chess_noise_ilp = oneDomainIFFT(idealLPfilter(cnFT, 50))\n",
    "chess_noise_med = medianfilter(chess_noise)\n",
    "\n",
    "saveContrastImg('./2/Chess_noise_gaussian.pgm', chess_noise_glp, depth)\n",
    "saveContrastImg('./2/Chess_noise_ideal.pgm', chess_noise_ilp, depth)\n",
    "saveContrastImg('./2/Chess_noise_median.pgm', chess_noise_med, depth)\n",
    "\n",
    "chess_noise = np.array(chess_noise)\n",
    "print('rms(chess, chess_noise): {:.5f}'.format(rms(np.array(chess), chess_noise)))\n",
    "print('rms(chess, glp50):       {:.5f}'.format(rms(np.array(chess), np.array(chess_noise_glp))))\n",
    "print('rms(chess, ilp50):       {:.5f}'.format(rms(np.array(chess), np.array(chess_noise_ilp))))\n",
    "print('rms(chess, med):         {:.5f}\\n'.format(rms(np.array(chess), np.array(chess_noise_med))))\n",
    "\n",
    "depth, lenna_noise = openImg('./2/Lenna_noise.pgm')\n",
    "lnFT = fft(lenna_noise)\n",
    "\n",
    "lenna_noise_glp = oneDomainIFFT(gaussianLPfilter(lnFT, 50))\n",
    "lenna_noise_ilp = oneDomainIFFT(idealLPfilter(lnFT, 50))\n",
    "lenna_noise_med = medianfilter(lenna_noise)\n",
    "\n",
    "saveContrastImg('./2/Lenna_noise_gaussian.pgm', lenna_noise_glp, depth)\n",
    "saveContrastImg('./2/Lenna_noise_ideal.pgm', lenna_noise_ilp, depth)\n",
    "saveContrastImg('./2/Lenna_noise_median.pgm', lenna_noise_med, depth)\n",
    "\n",
    "lenna_noise = np.array(lenna_noise)\n",
    "print('rms(lenna, lenna_noise): {:.5f}'.format(rms(np.array(lenna), lenna_noise)))\n",
    "print('rms(lenna, glp50):       {:.5f}'.format(rms(np.array(lenna), np.array(lenna_noise_glp))))\n",
    "print('rms(lenna, ilp50):       {:.5f}'.format(rms(np.array(lenna), np.array(lenna_noise_ilp))))\n",
    "print('rms(lenna, med):         {:.5f}'.format(rms(np.array(lenna), np.array(lenna_noise_med))))"
   ]
  }
 ],
 "metadata": {
  "interpreter": {
   "hash": "916dbcbb3f70747c44a77c7bcd40155683ae19c65e1c03b4aa3499c5328201f1"
  },
  "kernelspec": {
   "display_name": "Python 3.9.7 64-bit",
   "language": "python",
   "name": "python3"
  },
  "language_info": {
   "codemirror_mode": {
    "name": "ipython",
    "version": 3
   },
   "file_extension": ".py",
   "mimetype": "text/x-python",
   "name": "python",
   "nbconvert_exporter": "python",
   "pygments_lexer": "ipython3",
   "version": "3.10.2"
  },
  "orig_nbformat": 4
 },
 "nbformat": 4,
 "nbformat_minor": 2
}
