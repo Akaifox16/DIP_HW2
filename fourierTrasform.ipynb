{
 "cells": [
  {
   "cell_type": "code",
   "execution_count": 1,
   "metadata": {},
   "outputs": [],
   "source": [
    "from numpy.fft import fft2, fftshift, ifft2\n",
    "from polarform import extractAmplitudeAndPhase, fuseAmplitudeAndPhase\n",
    "from imgmgmt import flatten, padding, inverse\n",
    "from pointop import contrastStretching, normalizeLog\n",
    "from pgmf import readPGM, writePGM"
   ]
  },
  {
   "cell_type": "code",
   "execution_count": 2,
   "metadata": {},
   "outputs": [],
   "source": [
    "file = open('/home/akaifox/_workspace/DIP_2/1/Cross.pgm', 'rb')\n",
    "depth, cross = readPGM(file)"
   ]
  },
  {
   "cell_type": "code",
   "execution_count": 3,
   "metadata": {},
   "outputs": [
    {
     "name": "stdout",
     "output_type": "stream",
     "text": [
      "256 256\n"
     ]
    }
   ],
   "source": [
    "padding(cross, 56)\n",
    "w = len(cross[0])\n",
    "h = len(cross)\n",
    "print(w ,h)"
   ]
  },
  {
   "cell_type": "code",
   "execution_count": 4,
   "metadata": {},
   "outputs": [],
   "source": [
    "crossFT = fftshift(fft2(cross))\n",
    "cross_amplitude, cross_phase = extractAmplitudeAndPhase(crossFT)"
   ]
  },
  {
   "cell_type": "code",
   "execution_count": 5,
   "metadata": {},
   "outputs": [],
   "source": [
    "cross_no_phase, _ = extractAmplitudeAndPhase(fftshift(ifft2(cross_amplitude)))\n",
    "_, cross_no_amplitude = extractAmplitudeAndPhase(fftshift(ifft2(cross_phase)))"
   ]
  },
  {
   "cell_type": "code",
   "execution_count": 6,
   "metadata": {},
   "outputs": [
    {
     "name": "stderr",
     "output_type": "stream",
     "text": [
      "/home/akaifox/_workspace/DIP_2/pointop.py:12: ComplexWarning: Casting complex values to real discards the imaginary part\n",
      "  img[r][c] = int((img[r][c] - min_gray) / diff_gray * 255)\n"
     ]
    },
    {
     "ename": "TypeError",
     "evalue": "'numpy.complex128' object cannot be interpreted as an integer",
     "output_type": "error",
     "traceback": [
      "\u001b[0;31m---------------------------------------------------------------------------\u001b[0m",
      "\u001b[0;31mTypeError\u001b[0m                                 Traceback (most recent call last)",
      "\u001b[1;32m/home/akaifox/_workspace/DIP_2/fourierTrasform.ipynb Cell 6'\u001b[0m in \u001b[0;36m<module>\u001b[0;34m\u001b[0m\n\u001b[1;32m      <a href='vscode-notebook-cell:/home/akaifox/_workspace/DIP_2/fourierTrasform.ipynb#ch0000005?line=0'>1</a>\u001b[0m w, h \u001b[39m=\u001b[39m contrastStretching(crossFT)\n\u001b[1;32m      <a href='vscode-notebook-cell:/home/akaifox/_workspace/DIP_2/fourierTrasform.ipynb#ch0000005?line=1'>2</a>\u001b[0m file \u001b[39m=\u001b[39m \u001b[39mopen\u001b[39m(\u001b[39m'\u001b[39m\u001b[39m/home/akaifox/_workspace/DIP_2/1/CrossInverse.pgm\u001b[39m\u001b[39m'\u001b[39m, \u001b[39m'\u001b[39m\u001b[39mwb\u001b[39m\u001b[39m'\u001b[39m)\n\u001b[0;32m----> <a href='vscode-notebook-cell:/home/akaifox/_workspace/DIP_2/fourierTrasform.ipynb#ch0000005?line=2'>3</a>\u001b[0m writePGM(file, w, h, depth, flatten(crossFT))\n",
      "File \u001b[0;32m~/_workspace/DIP_2/pgmf.py:21\u001b[0m, in \u001b[0;36mwritePGM\u001b[0;34m(file, w, h, depth, flatImg)\u001b[0m\n\u001b[1;32m     <a href='file:///home/akaifox/_workspace/DIP_2/pgmf.py?line=18'>19</a>\u001b[0m file\u001b[39m.\u001b[39mwrite(\u001b[39m'\u001b[39m\u001b[39m{}\u001b[39;00m\u001b[39m \u001b[39m\u001b[39m{}\u001b[39;00m\u001b[39m\\n\u001b[39;00m\u001b[39m'\u001b[39m\u001b[39m.\u001b[39mformat(w, h)\u001b[39m.\u001b[39mencode())\n\u001b[1;32m     <a href='file:///home/akaifox/_workspace/DIP_2/pgmf.py?line=19'>20</a>\u001b[0m file\u001b[39m.\u001b[39mwrite(\u001b[39m'\u001b[39m\u001b[39m{}\u001b[39;00m\u001b[39m\\n\u001b[39;00m\u001b[39m'\u001b[39m\u001b[39m.\u001b[39mformat(depth)\u001b[39m.\u001b[39mencode())\n\u001b[0;32m---> <a href='file:///home/akaifox/_workspace/DIP_2/pgmf.py?line=20'>21</a>\u001b[0m file\u001b[39m.\u001b[39mwrite(\u001b[39mbytearray\u001b[39;49m(flatImg))\n\u001b[1;32m     <a href='file:///home/akaifox/_workspace/DIP_2/pgmf.py?line=21'>22</a>\u001b[0m file\u001b[39m.\u001b[39mclose()\n",
      "\u001b[0;31mTypeError\u001b[0m: 'numpy.complex128' object cannot be interpreted as an integer"
     ]
    }
   ],
   "source": [
    "w, h = contrastStretching(crossFT)\n",
    "file = open('/home/akaifox/_workspace/DIP_2/1/CrossInverse.pgm', 'wb')\n",
    "writePGM(file, w, h, depth, flatten(crossFT))"
   ]
  },
  {
   "cell_type": "code",
   "execution_count": null,
   "metadata": {},
   "outputs": [],
   "source": [
    "w, h = contrastStretching(cross_phase)\n",
    "file = open('/home/akaifox/_workspace/DIP_2/1/CrossPhase.pgm', 'wb')\n",
    "writePGM(file, w, h, depth, flatten(cross_phase))"
   ]
  },
  {
   "cell_type": "code",
   "execution_count": 7,
   "metadata": {},
   "outputs": [],
   "source": [
    "w, h = normalizeLog(cross_amplitude)\n",
    "file = open('/home/akaifox/_workspace/DIP_2/1/CrossAmplitude.pgm', 'wb')\n",
    "writePGM(file, w, h, depth, flatten(cross_amplitude))"
   ]
  },
  {
   "cell_type": "code",
   "execution_count": 8,
   "metadata": {},
   "outputs": [],
   "source": [
    "w, h = contrastStretching(cross_no_amplitude)\n",
    "file = open('/home/akaifox/_workspace/DIP_2/1/Cross_ifft_phase.pgm', 'wb')\n",
    "writePGM(file, w, h, depth, flatten(cross_no_amplitude))"
   ]
  },
  {
   "cell_type": "code",
   "execution_count": 9,
   "metadata": {},
   "outputs": [],
   "source": [
    "w, h = contrastStretching(cross_no_phase)\n",
    "file = open('/home/akaifox/_workspace/DIP_2/1/Cross_ifft_amplitude.pgm', 'wb')\n",
    "writePGM(file, w, h, depth, flatten(cross_no_phase))"
   ]
  },
  {
   "cell_type": "code",
   "execution_count": 10,
   "metadata": {},
   "outputs": [],
   "source": [
    "file = open('/home/akaifox/_workspace/DIP_2/1/Lenna.pgm', 'rb')\n",
    "depth, lenna = readPGM(file)"
   ]
  },
  {
   "cell_type": "code",
   "execution_count": 11,
   "metadata": {},
   "outputs": [],
   "source": [
    "lennaFT = fftshift(fft2(lenna))\n",
    "lenna_amplitude, lenna_phase = extractAmplitudeAndPhase(lennaFT)"
   ]
  },
  {
   "cell_type": "code",
   "execution_count": 12,
   "metadata": {},
   "outputs": [],
   "source": [
    "lenna_no_phase, _ = extractAmplitudeAndPhase(fftshift(ifft2(lenna_amplitude)))\n",
    "_, lenna_no_amplitude= extractAmplitudeAndPhase(fftshift(ifft2(lenna_phase)))"
   ]
  },
  {
   "cell_type": "code",
   "execution_count": 13,
   "metadata": {},
   "outputs": [],
   "source": [
    "w, h = contrastStretching(lenna_amplitude)\n",
    "file = open('/home/akaifox/_workspace/DIP_2/1/LennaAmplitude.pgm', 'wb')\n",
    "writePGM(file, w, h, depth, flatten(lenna_amplitude))"
   ]
  },
  {
   "cell_type": "code",
   "execution_count": 14,
   "metadata": {},
   "outputs": [],
   "source": [
    "w, h = contrastStretching(lenna_no_amplitude)\n",
    "file = open('/home/akaifox/_workspace/DIP_2/1/Lenna_ifft_phase.pgm', 'wb')\n",
    "writePGM(file, w, h, depth, flatten(lenna_no_amplitude))"
   ]
  },
  {
   "cell_type": "code",
   "execution_count": null,
   "metadata": {},
   "outputs": [],
   "source": []
  }
 ],
 "metadata": {
  "interpreter": {
   "hash": "916dbcbb3f70747c44a77c7bcd40155683ae19c65e1c03b4aa3499c5328201f1"
  },
  "kernelspec": {
   "display_name": "Python 3.9.7 64-bit",
   "language": "python",
   "name": "python3"
  },
  "language_info": {
   "codemirror_mode": {
    "name": "ipython",
    "version": 3
   },
   "file_extension": ".py",
   "mimetype": "text/x-python",
   "name": "python",
   "nbconvert_exporter": "python",
   "pygments_lexer": "ipython3",
   "version": "3.9.7"
  },
  "orig_nbformat": 4
 },
 "nbformat": 4,
 "nbformat_minor": 2
}
